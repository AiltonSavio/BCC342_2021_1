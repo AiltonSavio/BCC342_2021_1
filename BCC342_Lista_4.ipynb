{
  "nbformat": 4,
  "nbformat_minor": 0,
  "metadata": {
    "colab": {
      "name": "Untitled4.ipynb",
      "provenance": [],
      "authorship_tag": "ABX9TyPivnqKX4QJuXIrKiRAXbhK",
      "include_colab_link": true
    },
    "kernelspec": {
      "name": "python3",
      "display_name": "Python 3"
    },
    "language_info": {
      "name": "python"
    }
  },
  "cells": [
    {
      "cell_type": "markdown",
      "metadata": {
        "id": "view-in-github",
        "colab_type": "text"
      },
      "source": [
        "<a href=\"https://colab.research.google.com/github/AiltonSavio/BCC342_2021_1/blob/main/BCC342_Lista_4.ipynb\" target=\"_parent\"><img src=\"https://colab.research.google.com/assets/colab-badge.svg\" alt=\"Open In Colab\"/></a>"
      ]
    },
    {
      "cell_type": "code",
      "metadata": {
        "id": "ea9Jo5l4tbIp"
      },
      "source": [
        "import numpy as np"
      ],
      "execution_count": null,
      "outputs": []
    },
    {
      "cell_type": "code",
      "metadata": {
        "id": "_csiFK0LtnR2"
      },
      "source": [
        "def generate_and_test(bounds,fobj):\n",
        "  nvars = len(bounds)\n",
        "  best_sol = []\n",
        "  best_val = 0\n",
        "\n",
        "  bounds = [np.arange(b[0],b[1]+1) for b in bounds]\n",
        "  frontier = [[x] for x in bounds[0]]\n",
        "\n",
        "  while frontier:\n",
        "    solution = frontier.pop(0)\n",
        "\n",
        "    if len(solution) == nvars:\n",
        "      # print(solution)\n",
        "      s_val = fobj(solution)\n",
        "      if best_sol:\n",
        "        if s_val < best_val:\n",
        "          best_val = s_val\n",
        "          best_sol = solution\n",
        "      else:\n",
        "        best_val = s_val\n",
        "        best_sol = solution\n",
        "    else:\n",
        "      for val in bounds[len(solution)][::-1]:\n",
        "        frontier = [solution + [val]] + frontier\n",
        "\n",
        "  return {'best_sol': best_sol,\n",
        "          'best_val': best_val}"
      ],
      "execution_count": null,
      "outputs": []
    },
    {
      "cell_type": "markdown",
      "metadata": {
        "id": "uM6_t__tPDLi"
      },
      "source": [
        "# a)"
      ]
    },
    {
      "cell_type": "code",
      "metadata": {
        "colab": {
          "base_uri": "https://localhost:8080/"
        },
        "id": "_zwFJhaNt77o",
        "outputId": "b5029fd4-c4a8-4b85-fc52-ac8916b6e227"
      },
      "source": [
        "n = 4\n",
        "fobj = lambda x : -np.sum(x)\n",
        "bounds = [[0,1] for i in range(n)]\n",
        "\n",
        "res = generate_and_test(bounds,fobj)\n",
        "print(res)"
      ],
      "execution_count": null,
      "outputs": [
        {
          "output_type": "stream",
          "text": [
            "{'best_sol': [1, 1, 1, 1], 'best_val': -4}\n"
          ],
          "name": "stdout"
        }
      ]
    },
    {
      "cell_type": "markdown",
      "metadata": {
        "id": "7F-Z62d8PH2M"
      },
      "source": [
        "# b)"
      ]
    },
    {
      "cell_type": "code",
      "metadata": {
        "colab": {
          "base_uri": "https://localhost:8080/"
        },
        "id": "9Aqs-LfauSZ4",
        "outputId": "092041d3-2e07-4d9e-95ef-94d78a882cc5"
      },
      "source": [
        "bounds = [[0,4],[1,5],[1,3]]\n",
        "\n",
        "res = generate_and_test(bounds,fobj)\n",
        "print(res)"
      ],
      "execution_count": null,
      "outputs": [
        {
          "output_type": "stream",
          "text": [
            "{'best_sol': [4, 5, 3], 'best_val': -12}\n"
          ],
          "name": "stdout"
        }
      ]
    },
    {
      "cell_type": "code",
      "metadata": {
        "id": "CfHQ1hM-v9fW"
      },
      "source": [
        "def permute_and_test(n,fobj):\n",
        "  best_sol = []\n",
        "  best_val = 0\n",
        "\n",
        "  elements = set([i for i in range(n)]) \n",
        "  frontier = [[x] for x in range(n)]\n",
        "\n",
        "  while frontier:\n",
        "    solution = frontier.pop(0)\n",
        "\n",
        "    if len(solution) == n:\n",
        "      # print(solution)\n",
        "      s_val = fobj(solution)\n",
        "      if best_sol:\n",
        "        if s_val < best_val:\n",
        "          best_val = s_val\n",
        "          best_sol = solution\n",
        "      else:\n",
        "        best_val = s_val\n",
        "        best_sol = solution\n",
        "    else:\n",
        "      new_solutions = []\n",
        "      for val in elements - set(solution):\n",
        "        new_solutions = new_solutions + [solution + [val]]\n",
        "\n",
        "      frontier = new_solutions + frontier\n",
        "\n",
        "  return {'best_sol': best_sol,\n",
        "          'best_val': best_val}\n"
      ],
      "execution_count": null,
      "outputs": []
    },
    {
      "cell_type": "markdown",
      "metadata": {
        "id": "2HD2-4oxPKG6"
      },
      "source": [
        "# c)"
      ]
    },
    {
      "cell_type": "code",
      "metadata": {
        "colab": {
          "base_uri": "https://localhost:8080/"
        },
        "id": "9_Ffkg6cwYzF",
        "outputId": "7d2f11f2-e8b6-4e3d-e7d3-369a27f643b1"
      },
      "source": [
        "res = permute_and_test(n,fobj)\n",
        "print(res)"
      ],
      "execution_count": null,
      "outputs": [
        {
          "output_type": "stream",
          "text": [
            "{'best_sol': [0, 1, 2, 3], 'best_val': -6}\n"
          ],
          "name": "stdout"
        }
      ]
    }
  ]
}