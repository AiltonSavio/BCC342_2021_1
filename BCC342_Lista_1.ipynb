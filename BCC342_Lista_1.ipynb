{
  "nbformat": 4,
  "nbformat_minor": 0,
  "metadata": {
    "colab": {
      "name": "BCC342_Lista_1.ipynb",
      "provenance": [],
      "collapsed_sections": [
        "LazqCbznJ7EL",
        "OpHdByBfNLHP",
        "NeS7xCuKNSOb",
        "2bD4yzOLNVp7",
        "y0N0X_0jNe6n",
        "WXzU3RvHNnb2",
        "5nUmguIZNqJl",
        "_TXz7d0BNvDb"
      ],
      "authorship_tag": "ABX9TyPovcnbNFdjreULiw/DB0xF",
      "include_colab_link": true
    },
    "kernelspec": {
      "name": "python3",
      "display_name": "Python 3"
    }
  },
  "cells": [
    {
      "cell_type": "markdown",
      "metadata": {
        "id": "view-in-github",
        "colab_type": "text"
      },
      "source": [
        "<a href=\"https://colab.research.google.com/github/AiltonSavio/BCC342_2021_1/blob/main/BCC342_Lista_1.ipynb\" target=\"_parent\"><img src=\"https://colab.research.google.com/assets/colab-badge.svg\" alt=\"Open In Colab\"/></a>"
      ]
    },
    {
      "cell_type": "markdown",
      "metadata": {
        "id": "MsjZ1j65JZh-"
      },
      "source": [
        "# Instalação e Imports"
      ]
    },
    {
      "cell_type": "code",
      "metadata": {
        "colab": {
          "base_uri": "https://localhost:8080/"
        },
        "id": "TziyZ3ACJDUP",
        "outputId": "92292bda-0e19-4afd-92ad-b4ed965641ec"
      },
      "source": [
        "!pip install mip"
      ],
      "execution_count": 3,
      "outputs": [
        {
          "output_type": "stream",
          "text": [
            "Collecting mip\n",
            "\u001b[?25l  Downloading https://files.pythonhosted.org/packages/e5/7c/615a417b8b74dde4c3573f09c79612e3e0ed8c9b9488daf67e86cde350d2/mip-1.13.0-py3-none-any.whl (48.0MB)\n",
            "\u001b[K     |████████████████████████████████| 48.0MB 81kB/s \n",
            "\u001b[?25hRequirement already satisfied: cffi in /usr/local/lib/python3.6/dist-packages (from mip) (1.14.4)\n",
            "Requirement already satisfied: pycparser in /usr/local/lib/python3.6/dist-packages (from cffi->mip) (2.20)\n",
            "Installing collected packages: mip\n",
            "Successfully installed mip-1.13.0\n"
          ],
          "name": "stdout"
        }
      ]
    },
    {
      "cell_type": "code",
      "metadata": {
        "id": "TcHTeWpKJxRd"
      },
      "source": [
        "from mip import Model, xsum, INTEGER, CONTINUOUS, BINARY, MAXIMIZE, MINIMIZE"
      ],
      "execution_count": 28,
      "outputs": []
    },
    {
      "cell_type": "markdown",
      "metadata": {
        "id": "LazqCbznJ7EL"
      },
      "source": [
        "# a) O Problema da Estampagem de Aço"
      ]
    },
    {
      "cell_type": "code",
      "metadata": {
        "id": "Kt0XX6d2KBil"
      },
      "source": [
        "nvars = 2\n",
        "obj_coef = [15,40]\n",
        "g_coef = [[1,4],\n",
        "          [1,-4]]\n",
        "g_val = [4080,0]\n",
        "\n",
        "m = Model('Aço',sense=MAXIMIZE)"
      ],
      "execution_count": null,
      "outputs": []
    },
    {
      "cell_type": "code",
      "metadata": {
        "id": "s_GItJ5s4dMy"
      },
      "source": [
        "x = [m.add_var(name='x{}'.format(int(i)),var_type=INTEGER,lb=0) for i in range(nvars)]"
      ],
      "execution_count": null,
      "outputs": []
    },
    {
      "cell_type": "code",
      "metadata": {
        "id": "q99UPYLu4fCR"
      },
      "source": [
        "m.objective = xsum(obj_coef[i]*x[i] for i in range(nvars)) "
      ],
      "execution_count": null,
      "outputs": []
    },
    {
      "cell_type": "code",
      "metadata": {
        "id": "rN9wbDq14h9n"
      },
      "source": [
        "for i in range(len(g_val)):\n",
        "  m += xsum(g_coef[i][j]*x[j] for j in range(nvars)) <= g_val[i]"
      ],
      "execution_count": null,
      "outputs": []
    },
    {
      "cell_type": "code",
      "metadata": {
        "colab": {
          "base_uri": "https://localhost:8080/"
        },
        "id": "213H4eey4jM5",
        "outputId": "da9e4791-d420-4bab-8e63-4e7d88c47217"
      },
      "source": [
        "m.optimize()"
      ],
      "execution_count": null,
      "outputs": [
        {
          "output_type": "execute_result",
          "data": {
            "text/plain": [
              "<OptimizationStatus.OPTIMAL: 0>"
            ]
          },
          "metadata": {
            "tags": []
          },
          "execution_count": 7
        }
      ]
    },
    {
      "cell_type": "code",
      "metadata": {
        "colab": {
          "base_uri": "https://localhost:8080/"
        },
        "id": "EqEvgeYe4kIN",
        "outputId": "607bc664-ee4a-4b8e-ba02-2fc8d416fa98"
      },
      "source": [
        "print('Optimal Solution: {}'.format([x[i].x for i in range(nvars)]))"
      ],
      "execution_count": null,
      "outputs": [
        {
          "output_type": "stream",
          "text": [
            "Optimal Solution: [2040.0, 510.0]\n"
          ],
          "name": "stdout"
        }
      ]
    },
    {
      "cell_type": "markdown",
      "metadata": {
        "id": "OpHdByBfNLHP"
      },
      "source": [
        "# b) O Problema dos Fertilizantes"
      ]
    },
    {
      "cell_type": "code",
      "metadata": {
        "id": "mzgbzhDfNR8Q"
      },
      "source": [
        "nvars = 3\n",
        "obj_coef = [50, 40, 60]\n",
        "g_coef = [[10, 5, 10],\n",
        "          [1, 1, 1],\n",
        "          [-1, -1, -1],\n",
        "          [1, 0, 0]]\n",
        "g_val = [100000, 12000, -15000, 5000]\n",
        "\n",
        "m = Model('Fertilizantes',sense=MINIMIZE)"
      ],
      "execution_count": null,
      "outputs": []
    },
    {
      "cell_type": "code",
      "metadata": {
        "id": "_w0fFYphALhn"
      },
      "source": [
        "x = [m.add_var(name='x{}'.format(int(i)),lb=0) for i in range(nvars)]"
      ],
      "execution_count": null,
      "outputs": []
    },
    {
      "cell_type": "code",
      "metadata": {
        "id": "l5y0T0DlJJlm"
      },
      "source": [
        "m.objective = xsum(obj_coef[i]*x[i] for i in range(nvars)) "
      ],
      "execution_count": null,
      "outputs": []
    },
    {
      "cell_type": "code",
      "metadata": {
        "id": "RtowNMiWAxH6"
      },
      "source": [
        "for i in range(len(g_val)):\n",
        "  m += xsum(g_coef[i][j]*x[j] for j in range(nvars)) >= g_val[i]"
      ],
      "execution_count": null,
      "outputs": []
    },
    {
      "cell_type": "code",
      "metadata": {
        "colab": {
          "base_uri": "https://localhost:8080/"
        },
        "id": "27Zz_EYlA3_b",
        "outputId": "e66df23e-e054-44aa-a0dd-db8e2228d0d3"
      },
      "source": [
        "m.optimize()"
      ],
      "execution_count": null,
      "outputs": [
        {
          "output_type": "execute_result",
          "data": {
            "text/plain": [
              "<OptimizationStatus.OPTIMAL: 0>"
            ]
          },
          "metadata": {
            "tags": []
          },
          "execution_count": 80
        }
      ]
    },
    {
      "cell_type": "code",
      "metadata": {
        "colab": {
          "base_uri": "https://localhost:8080/"
        },
        "id": "AIOEOLtUA5cq",
        "outputId": "59a6af43-2729-4a44-b92d-48fd282d3d3c"
      },
      "source": [
        "print('Optimal Solution: {}'.format([x[i].x for i in range(nvars)]))"
      ],
      "execution_count": null,
      "outputs": [
        {
          "output_type": "stream",
          "text": [
            "Optimal Solution: [8000.0, 4000.0, 0.0]\n"
          ],
          "name": "stdout"
        }
      ]
    },
    {
      "cell_type": "markdown",
      "metadata": {
        "id": "NeS7xCuKNSOb"
      },
      "source": [
        "# c) O Problema do Custo de Transporte"
      ]
    },
    {
      "cell_type": "code",
      "metadata": {
        "id": "3BcvsTZfNVaw"
      },
      "source": [
        "cost = [[40,50,55,9999999],\n",
        "        [999999999,60,30,50]]\n",
        "\n",
        "m = Model('Casacos',sense=MINIMIZE)\n",
        "\n",
        "x = [[m.add_var(var_type=INTEGER,lb=0) for j in range(4)] for i in range(2)]"
      ],
      "execution_count": null,
      "outputs": []
    },
    {
      "cell_type": "code",
      "metadata": {
        "id": "iSA5MWlb7iwB"
      },
      "source": [
        "m.objective = xsum(cost[i][j]*x[i][j] for i in range(2) for j in range(4))"
      ],
      "execution_count": null,
      "outputs": []
    },
    {
      "cell_type": "code",
      "metadata": {
        "id": "6kDgFN4s7j7c"
      },
      "source": [
        "m += x[1][0] == 0\n",
        "m += x[0][3] == 0\n",
        "m += xsum(x[0][j] for j in range(4)) == 6000\n",
        "m += xsum(x[1][j] for j in range(4)) == 9000\n",
        "m += x[0][0] <= 2500\n",
        "m += x[1][3] <= 3500 \n",
        "m += xsum(x[i][1] for i in range(2)) <= 4500\n",
        "m += xsum(x[i][2] for i in range(2)) <= 5500"
      ],
      "execution_count": null,
      "outputs": []
    },
    {
      "cell_type": "code",
      "metadata": {
        "colab": {
          "base_uri": "https://localhost:8080/"
        },
        "id": "LoWZK2nK7lQl",
        "outputId": "acacdd5f-db6a-4dca-af4b-7892394f715a"
      },
      "source": [
        "m.optimize()"
      ],
      "execution_count": null,
      "outputs": [
        {
          "output_type": "execute_result",
          "data": {
            "text/plain": [
              "<OptimizationStatus.OPTIMAL: 0>"
            ]
          },
          "metadata": {
            "tags": []
          },
          "execution_count": 12
        }
      ]
    },
    {
      "cell_type": "code",
      "metadata": {
        "colab": {
          "base_uri": "https://localhost:8080/"
        },
        "id": "bnMnsh107m3w",
        "outputId": "7dd5c20a-e695-4b35-966a-2a24cba54029"
      },
      "source": [
        "print('Optimal Solution: {}'.format([x[i][j].x for i in range(2) for j in range(4)]))"
      ],
      "execution_count": null,
      "outputs": [
        {
          "output_type": "stream",
          "text": [
            "Optimal Solution: [2500.0, 3500.0, 0.0, 0.0, 0.0, 0.0, 5500.0, 3500.0]\n"
          ],
          "name": "stdout"
        }
      ]
    },
    {
      "cell_type": "markdown",
      "metadata": {
        "id": "2bD4yzOLNVp7"
      },
      "source": [
        "# d) Problema das Ligas Metálicas"
      ]
    },
    {
      "cell_type": "code",
      "metadata": {
        "id": "zFR4dybTNaLz"
      },
      "source": [
        "nvars = 2\n",
        "obj_coef = [3000, 5000]\n",
        "g_coef = [[0.5, 0.2],\n",
        "          [0.25 , 0.3],\n",
        "          [0.25, 0.3]]\n",
        "g_val = [16, 11, 15]\n",
        "\n",
        "m = Model('Ligas_Metalicas',sense=MAXIMIZE)"
      ],
      "execution_count": null,
      "outputs": []
    },
    {
      "cell_type": "code",
      "metadata": {
        "id": "wEC5lF1nGJCC"
      },
      "source": [
        "x = [m.add_var(name='x{}'.format(int(i)), lb=0) for i in range(nvars)]"
      ],
      "execution_count": null,
      "outputs": []
    },
    {
      "cell_type": "code",
      "metadata": {
        "id": "TaKVCLIuJRVw"
      },
      "source": [
        "m.objective = xsum(obj_coef[i]*x[i] for i in range(nvars)) "
      ],
      "execution_count": null,
      "outputs": []
    },
    {
      "cell_type": "code",
      "metadata": {
        "id": "iMYJeClXGJaR"
      },
      "source": [
        "for i in range(len(g_val)):\n",
        "  m += xsum(g_coef[i][j]*x[j] for j in range(nvars)) <= g_val[i]"
      ],
      "execution_count": null,
      "outputs": []
    },
    {
      "cell_type": "code",
      "metadata": {
        "colab": {
          "base_uri": "https://localhost:8080/"
        },
        "id": "_XHr0ykkIQiX",
        "outputId": "7531cd25-9bac-4799-aa03-2448e2374aad"
      },
      "source": [
        "m.optimize()"
      ],
      "execution_count": null,
      "outputs": [
        {
          "output_type": "execute_result",
          "data": {
            "text/plain": [
              "<OptimizationStatus.OPTIMAL: 0>"
            ]
          },
          "metadata": {
            "tags": []
          },
          "execution_count": 86
        }
      ]
    },
    {
      "cell_type": "code",
      "metadata": {
        "colab": {
          "base_uri": "https://localhost:8080/"
        },
        "id": "jcz7_ga5GJzE",
        "outputId": "d72d4d0c-d02f-4d89-9612-b79d7da6c857"
      },
      "source": [
        "print('Optimal Solution: {}'.format([x[i].x for i in range(nvars)]))"
      ],
      "execution_count": null,
      "outputs": [
        {
          "output_type": "stream",
          "text": [
            "Optimal Solution: [0.0, 36.66666666666667]\n"
          ],
          "name": "stdout"
        }
      ]
    },
    {
      "cell_type": "markdown",
      "metadata": {
        "id": "y0N0X_0jNe6n"
      },
      "source": [
        "# e) Problema da Dieta"
      ]
    },
    {
      "cell_type": "code",
      "metadata": {
        "id": "iVX5SabbNiPj"
      },
      "source": [
        "nvars = 4\n",
        "obj_coef = [2, 4, 1.5, 1]\n",
        "g_coef = [[2, 2, 10, 20],\n",
        "          [50, 20, 10, 30],\n",
        "          [80, 70, 10, 80]]\n",
        "g_val = [11, 70, 250]\n",
        "\n",
        "m = Model('Dieta',sense=MINIMIZE)"
      ],
      "execution_count": null,
      "outputs": []
    },
    {
      "cell_type": "code",
      "metadata": {
        "id": "Ulse33ZuM9Pf"
      },
      "source": [
        "x = [m.add_var(name='x{}'.format(int(i)), lb=0) for i in range(nvars)]"
      ],
      "execution_count": null,
      "outputs": []
    },
    {
      "cell_type": "code",
      "metadata": {
        "id": "h-wSBEeIM9Yj"
      },
      "source": [
        "m.objective = xsum(obj_coef[i]*x[i] for i in range(nvars)) "
      ],
      "execution_count": null,
      "outputs": []
    },
    {
      "cell_type": "code",
      "metadata": {
        "id": "t86swZHyM9g8"
      },
      "source": [
        "for i in range(len(g_val)):\n",
        "  m += xsum(g_coef[i][j]*x[j] for j in range(nvars)) >= g_val[i]"
      ],
      "execution_count": null,
      "outputs": []
    },
    {
      "cell_type": "code",
      "metadata": {
        "colab": {
          "base_uri": "https://localhost:8080/"
        },
        "id": "185YRA_sNdmP",
        "outputId": "3790a476-8501-49ee-d892-3b2fcbfeff9a"
      },
      "source": [
        "m.optimize()"
      ],
      "execution_count": null,
      "outputs": [
        {
          "output_type": "execute_result",
          "data": {
            "text/plain": [
              "<OptimizationStatus.OPTIMAL: 0>"
            ]
          },
          "metadata": {
            "tags": []
          },
          "execution_count": 133
        }
      ]
    },
    {
      "cell_type": "code",
      "metadata": {
        "colab": {
          "base_uri": "https://localhost:8080/"
        },
        "id": "CkBGqnSVM9ok",
        "outputId": "04f2b0a8-672f-4e6c-d8f3-c3eb2a1b09f6"
      },
      "source": [
        "print('Optimal Solution: {}'.format([x[i].x for i in range(nvars)]))"
      ],
      "execution_count": null,
      "outputs": [
        {
          "output_type": "stream",
          "text": [
            "Optimal Solution: [0.0, 0.0, 0.0, 3.125]\n"
          ],
          "name": "stdout"
        }
      ]
    },
    {
      "cell_type": "markdown",
      "metadata": {
        "id": "a2HLRJ23NieB"
      },
      "source": [
        "# f) Problema da Cooperativa Agrícola"
      ]
    },
    {
      "cell_type": "code",
      "metadata": {
        "id": "GM8kOE-BNnPs"
      },
      "source": [
        "cultura = [[660, 5.5, 5000],\n",
        "           [880, 4, 4000],\n",
        "           [400, 3.5, 1800]]\n",
        "\n",
        "fazenda = [[400, 1800],\n",
        "           [650, 2200],\n",
        "           [350, 950]]\n",
        "\n",
        "m = Model('Cooperativa_Agricola',sense=MAXIMIZE)"
      ],
      "execution_count": 21,
      "outputs": []
    },
    {
      "cell_type": "code",
      "metadata": {
        "id": "JaIGSj-jSd9F"
      },
      "source": [
        "x = [[m.add_var(name='x{}{}'.format(int(i), int(j)),lb=0) for j in range(len(cultura))] for i in range(len(fazenda))]"
      ],
      "execution_count": 22,
      "outputs": []
    },
    {
      "cell_type": "code",
      "metadata": {
        "id": "XpHBz6yzSefe"
      },
      "source": [
        "m.objective = xsum(cultura[i][2]*x[j][i] for i in range(len(cultura)) for j in range(len(fazenda)))"
      ],
      "execution_count": 23,
      "outputs": []
    },
    {
      "cell_type": "code",
      "metadata": {
        "id": "8f6F08CcSejQ"
      },
      "source": [
        "for i in range(len(fazenda)):\n",
        "  m += xsum(x[i][j] for j in range(len(cultura))) <= fazenda[i][0]\n",
        "  m += xsum(x[i][j]*cultura[j][1] for j in range(len(cultura))) <= fazenda[i][1]\n",
        "\n",
        "for i in range(len(cultura)):\n",
        "  m += xsum(x[j][i] for j in range(len(fazenda))) <= cultura[i][0]\n",
        "\n",
        "m += (xsum(x[0][j] for j in range(len(cultura))))/fazenda[0][0] == (xsum(x[1][j] for j in range(len(cultura))))/fazenda[1][0]\n",
        "m += (xsum(x[0][j] for j in range(len(cultura))))/fazenda[0][0] == (xsum(x[2][j] for j in range(len(cultura))))/fazenda[2][0]"
      ],
      "execution_count": 24,
      "outputs": []
    },
    {
      "cell_type": "code",
      "metadata": {
        "colab": {
          "base_uri": "https://localhost:8080/"
        },
        "id": "MUivLmKrShDv",
        "outputId": "101a2d5b-5f7e-4d73-a7e9-ad51933ef813"
      },
      "source": [
        "m.optimize()"
      ],
      "execution_count": 25,
      "outputs": [
        {
          "output_type": "execute_result",
          "data": {
            "text/plain": [
              "<OptimizationStatus.OPTIMAL: 0>"
            ]
          },
          "metadata": {
            "tags": []
          },
          "execution_count": 25
        }
      ]
    },
    {
      "cell_type": "code",
      "metadata": {
        "colab": {
          "base_uri": "https://localhost:8080/"
        },
        "id": "721ckRcSShGU",
        "outputId": "bd3be624-46f9-4047-de72-62276b56a25d"
      },
      "source": [
        "print('Optimal Solution: {}'.format([[x[j][i].x for i in range(len(fazenda))] for j in range(len(cultura))]))"
      ],
      "execution_count": 27,
      "outputs": [
        {
          "output_type": "stream",
          "text": [
            "Optimal Solution: [[271.4285714285714, 0.0, 0.0], [290.47619047619077, 150.59523809523773, 0.0], [0.0, 237.5, 0.0]]\n"
          ],
          "name": "stdout"
        }
      ]
    },
    {
      "cell_type": "markdown",
      "metadata": {
        "id": "WXzU3RvHNnb2"
      },
      "source": [
        "# g) O Problema das Equipes de Engenharia"
      ]
    },
    {
      "cell_type": "code",
      "metadata": {
        "id": "5H6xZiBINpkQ"
      },
      "source": [
        "m = Model('Engenharia  ',sense=MAXIMIZE)"
      ],
      "execution_count": 29,
      "outputs": []
    },
    {
      "cell_type": "code",
      "metadata": {
        "id": "_Dk8IqeGJhsf"
      },
      "source": [
        "G = m.add_var(name='G', lb=0, ub=100)\n",
        "x = m.add_var(name='x1', var_type=BINARY)"
      ],
      "execution_count": 32,
      "outputs": []
    },
    {
      "cell_type": "code",
      "metadata": {
        "id": "W8AIq4McJh3o"
      },
      "source": [
        "m.objective = G"
      ],
      "execution_count": 33,
      "outputs": []
    },
    {
      "cell_type": "code",
      "metadata": {
        "id": "bz-GBOvNJh92"
      },
      "source": [
        "m += 40*x + G <= 80\n",
        "m += -60*x + G <= 20"
      ],
      "execution_count": 35,
      "outputs": []
    },
    {
      "cell_type": "code",
      "metadata": {
        "colab": {
          "base_uri": "https://localhost:8080/"
        },
        "id": "c7Sm_Ls7JiFI",
        "outputId": "427646de-98c4-40d0-c0ce-16e7155da479"
      },
      "source": [
        "m.optimize()"
      ],
      "execution_count": 36,
      "outputs": [
        {
          "output_type": "execute_result",
          "data": {
            "text/plain": [
              "<OptimizationStatus.OPTIMAL: 0>"
            ]
          },
          "metadata": {
            "tags": []
          },
          "execution_count": 36
        }
      ]
    },
    {
      "cell_type": "code",
      "metadata": {
        "colab": {
          "base_uri": "https://localhost:8080/"
        },
        "id": "doa4kagmLHAi",
        "outputId": "61da6dc7-43cc-477d-ca5e-608304dce228"
      },
      "source": [
        "print('Optimal Solution: {}, {}'.format(x.x, G.x))"
      ],
      "execution_count": 39,
      "outputs": [
        {
          "output_type": "stream",
          "text": [
            "Optimal Solution: 1.0, 40.0\n"
          ],
          "name": "stdout"
        }
      ]
    },
    {
      "cell_type": "markdown",
      "metadata": {
        "id": "5nUmguIZNqJl"
      },
      "source": [
        "# h) O Problema da Pequena Fábrica"
      ]
    },
    {
      "cell_type": "code",
      "metadata": {
        "id": "vEfFqLhgNu7F"
      },
      "source": [
        "nvars = 2\n",
        "obj_coef = [2, 5]\n",
        "g_coef = [[3, 4],\n",
        "          [9, 7]]\n",
        "g_val = [200, 300]\n",
        "\n",
        "m = Model('Pequena_Fabrica  ',sense=MAXIMIZE)"
      ],
      "execution_count": null,
      "outputs": []
    },
    {
      "cell_type": "code",
      "metadata": {
        "id": "uoKbYNxScZW7"
      },
      "source": [
        "x = [m.add_var(name='x{}'.format(int(i)),var_type=INTEGER,lb=0) for i in range(nvars)]"
      ],
      "execution_count": null,
      "outputs": []
    },
    {
      "cell_type": "code",
      "metadata": {
        "id": "08OIo3bKcZZJ"
      },
      "source": [
        "m.objective = xsum(obj_coef[i]*x[i] for i in range(nvars)) "
      ],
      "execution_count": null,
      "outputs": []
    },
    {
      "cell_type": "code",
      "metadata": {
        "id": "itsvToIfcZbA"
      },
      "source": [
        "for i in range(len(g_val)):\n",
        "  m += xsum(g_coef[i][j]*x[j] for j in range(nvars)) <= g_val[i]"
      ],
      "execution_count": null,
      "outputs": []
    },
    {
      "cell_type": "code",
      "metadata": {
        "colab": {
          "base_uri": "https://localhost:8080/"
        },
        "id": "jOF6RUQfcZdD",
        "outputId": "679fee7b-8435-4558-9f8a-bcb68fee52ba"
      },
      "source": [
        "m.optimize()"
      ],
      "execution_count": null,
      "outputs": [
        {
          "output_type": "execute_result",
          "data": {
            "text/plain": [
              "<OptimizationStatus.OPTIMAL: 0>"
            ]
          },
          "metadata": {
            "tags": []
          },
          "execution_count": 9
        }
      ]
    },
    {
      "cell_type": "code",
      "metadata": {
        "colab": {
          "base_uri": "https://localhost:8080/"
        },
        "id": "gci3tfjpcZ6e",
        "outputId": "d2541019-6bf3-4844-8558-b46663b190dc"
      },
      "source": [
        "print('Optimal Solution: {}'.format([x[i].x for i in range(nvars)]))"
      ],
      "execution_count": null,
      "outputs": [
        {
          "output_type": "stream",
          "text": [
            "Optimal Solution: [0.0, 42.0]\n"
          ],
          "name": "stdout"
        }
      ]
    },
    {
      "cell_type": "markdown",
      "metadata": {
        "id": "_TXz7d0BNvDb"
      },
      "source": [
        "# i) O Problema da Fábrica de Camisas"
      ]
    },
    {
      "cell_type": "code",
      "metadata": {
        "id": "3yWVpfIDNzzy"
      },
      "source": [
        "nvars = 2\n",
        "obj_coef = [5, 3.5]\n",
        "\n",
        "m = Model('Fabrica_de_Camisas  ',sense=MAXIMIZE)"
      ],
      "execution_count": null,
      "outputs": []
    },
    {
      "cell_type": "code",
      "metadata": {
        "id": "GkyblgTWfTB2"
      },
      "source": [
        "x = [m.add_var(name='x{}'.format(int(i)),var_type=INTEGER,lb=0) for i in range(nvars)]"
      ],
      "execution_count": null,
      "outputs": []
    },
    {
      "cell_type": "code",
      "metadata": {
        "id": "1EyhIIeLfTI9"
      },
      "source": [
        "m.objective = xsum(obj_coef[i]*x[i] for i in range(nvars)) "
      ],
      "execution_count": null,
      "outputs": []
    },
    {
      "cell_type": "code",
      "metadata": {
        "id": "ubWDVGYOfTQa"
      },
      "source": [
        "m += x[0] <= 150\n",
        "m += x[1] <= 300\n",
        "m += 1.5*x[0] + x[1] == 400"
      ],
      "execution_count": null,
      "outputs": []
    },
    {
      "cell_type": "code",
      "metadata": {
        "colab": {
          "base_uri": "https://localhost:8080/"
        },
        "id": "VQj6ibBkfTW6",
        "outputId": "c9f96c64-e59d-4efa-f3e2-aa98a2c9e176"
      },
      "source": [
        "m.optimize()"
      ],
      "execution_count": null,
      "outputs": [
        {
          "output_type": "execute_result",
          "data": {
            "text/plain": [
              "<OptimizationStatus.OPTIMAL: 0>"
            ]
          },
          "metadata": {
            "tags": []
          },
          "execution_count": 21
        }
      ]
    },
    {
      "cell_type": "code",
      "metadata": {
        "colab": {
          "base_uri": "https://localhost:8080/"
        },
        "id": "49WQYD8DfTaR",
        "outputId": "a0363762-9448-424e-8d3a-8d6dc874c2a4"
      },
      "source": [
        "print('Optimal Solution: {}'.format([x[i].x for i in range(nvars)]))"
      ],
      "execution_count": null,
      "outputs": [
        {
          "output_type": "stream",
          "text": [
            "Optimal Solution: [68.0, 298.0]\n"
          ],
          "name": "stdout"
        }
      ]
    }
  ]
}